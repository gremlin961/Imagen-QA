{
 "cells": [
  {
   "cell_type": "markdown",
   "id": "8a331300-5ff3-4219-83c0-ce11703cc9e1",
   "metadata": {},
   "source": [
    "# How To Use Vertex Text-to-Image Generative AI To Inspect Image Details"
   ]
  },
  {
   "cell_type": "markdown",
   "id": "34429b82-078c-4107-827d-8aaed4ab1121",
   "metadata": {},
   "source": [
    "This notebook outlines how to interact with Vertex AI's Imagen GenAI models to inspect images and generate detailed information about its content. Visual Question Answering (VQA) lets you provide an image to the model and ask a question about the image's contents. In response to your question you get one or more natural language answers."
   ]
  },
  {
   "cell_type": "markdown",
   "id": "69ed54ec-9f36-40af-8d2e-c6fd32a76222",
   "metadata": {},
   "source": [
    "## Prepare the python development environment"
   ]
  },
  {
   "cell_type": "markdown",
   "id": "906ce888-8c52-476b-96d0-7f65cb259f8d",
   "metadata": {},
   "source": [
    "First, let's identify any project specific variables to customize this notebook to your GCP environment. Change YOUR_PROJECT_ID with your own GCP project ID."
   ]
  },
  {
   "cell_type": "code",
   "execution_count": null,
   "id": "205088b5-6d5b-46dd-9d77-a8352eac630b",
   "metadata": {
    "tags": []
   },
   "outputs": [],
   "source": [
    "PROJECT_ID = \"rkiles-demo-host-vpc\""
   ]
  },
  {
   "cell_type": "markdown",
   "id": "e75038c4-0365-4c03-a38c-21316392dad8",
   "metadata": {},
   "source": [
    " "
   ]
  },
  {
   "cell_type": "markdown",
   "id": "fe92738a-045b-48a4-ab0e-1d98fad2089a",
   "metadata": {},
   "source": [
    "Install any needed python modules from our requirements.txt file. Most Vertex Workbench environments include all the packages we'll be using, but if you are using an external Jupyter Notebook or require any additional packages for your own needs, you can simply add them to the included requirements.txt file an run the folloiwng commands."
   ]
  },
  {
   "cell_type": "code",
   "execution_count": null,
   "id": "f69175b8-63c4-4b5a-837d-055743c0b8d1",
   "metadata": {},
   "outputs": [],
   "source": [
    "#pip install -r requirements.txt"
   ]
  },
  {
   "cell_type": "markdown",
   "id": "444b2ce7-0277-4ada-9648-34c67774bfd2",
   "metadata": {},
   "source": [
    "Now we will import all required modules. For our purpose, we will be utilizing the following:\n",
    "\n",
    "- google.auth - Provides authentication access to the Google API's, such as imagegeneration:predict\n",
    "- base64 - Imagen API requests return generated or edited images as base64-encoded strings. This module will help us decode this data to an image file\n",
    "- requests - This module will allow us to interact directly with Imagen over the REST API. \n",
    "- json - Python module used to interact with JSON data. Imagen returns results in json format."
   ]
  },
  {
   "cell_type": "code",
   "execution_count": null,
   "id": "b8e15897-0cb0-4173-9b91-17270a10b989",
   "metadata": {
    "tags": []
   },
   "outputs": [],
   "source": [
    "import google.auth.transport.requests\n",
    "import google.auth\n",
    "import base64\n",
    "import requests\n",
    "import json"
   ]
  },
  {
   "cell_type": "markdown",
   "id": "4a2b2668-962a-42da-b92b-4932f224bb0d",
   "metadata": {},
   "source": [
    "## Authenticate to the Vertex AI API"
   ]
  },
  {
   "cell_type": "markdown",
   "id": "ef57a2c4-d51a-42b8-b0c7-24aced49d64b",
   "metadata": {},
   "source": [
    "Our Vertex Workbench instance is configured to use a specified service account that has IAM access to the text-to-vision API. The following two secitons will allow us to generate the access token we will pass as an authorization bearer token later in the header."
   ]
  },
  {
   "cell_type": "code",
   "execution_count": null,
   "id": "997bec4d-c8d6-4f90-9726-3e574ab061d5",
   "metadata": {},
   "outputs": [],
   "source": [
    "credentials, project_id = google.auth.default()\n",
    "auth_req = google.auth.transport.requests.Request()\n",
    "credentials.refresh(auth_req)"
   ]
  },
  {
   "cell_type": "code",
   "execution_count": null,
   "id": "ea5d12eb-fd5c-4c70-b278-6a199985f3f9",
   "metadata": {},
   "outputs": [],
   "source": [
    "access_token = credentials.token"
   ]
  },
  {
   "cell_type": "markdown",
   "id": "ae3fb974-e836-40c5-81e3-c83f63bc84e0",
   "metadata": {},
   "source": [
    "## Prepare the HTTP POST request to the REST API"
   ]
  },
  {
   "cell_type": "markdown",
   "id": "b93462b3-7ee7-4f6f-a141-0d54ce304669",
   "metadata": {},
   "source": [
    "Define the header fields, including the access token we created in the last step"
   ]
  },
  {
   "cell_type": "code",
   "execution_count": null,
   "id": "a32a6c60-9040-4f58-9d25-383e25b86360",
   "metadata": {},
   "outputs": [],
   "source": [
    "headers = {\n",
    "        'Authorization': 'Bearer ' + access_token,\n",
    "        'Content-Type': 'application/json; charset=utf-8'\n",
    "    }"
   ]
  },
  {
   "cell_type": "markdown",
   "id": "e00a60a7-400c-4c54-989b-6e5a9b931711",
   "metadata": {},
   "source": [
    "You can uncomment the following line for troubleshooting if you want to see how the header will be passed to the API."
   ]
  },
  {
   "cell_type": "code",
   "execution_count": null,
   "id": "8e4842b3-abb5-4941-b501-a78bd6341306",
   "metadata": {
    "tags": []
   },
   "outputs": [],
   "source": [
    "#print(headers)"
   ]
  },
  {
   "cell_type": "markdown",
   "id": "5192001a-47ec-4a6b-a93e-f91ce2e1dd79",
   "metadata": {},
   "source": [
    "Next we will specifiy the URL for the Imagen REST API. You should have already specified the correct project ID in the very first step of this notebook."
   ]
  },
  {
   "cell_type": "code",
   "execution_count": null,
   "id": "9cfea6f4-3cbd-413c-9996-3edd9ee944e7",
   "metadata": {},
   "outputs": [],
   "source": [
    "url = f'https://us-central1-aiplatform.googleapis.com/v1/projects/{PROJECT_ID}/locations/us-central1/publishers/google/models/imagetext:predict'"
   ]
  },
  {
   "cell_type": "markdown",
   "id": "312d82f2-ab09-4da5-ac82-6b659c765051",
   "metadata": {},
   "source": [
    "To use Imagen on Vertex AI you must provide a text description of what you want to generate or edit. These descriptions are called prompts, and these prompts are the primary way you communicate with Generative AI. Here, we are specifiying what we want the model to identify using a prompt. Play around with this content and see what kind of details you can extract from an image. More information can be found here https://cloud.google.com/vertex-ai/docs/generative-ai/image/img-gen-prompt-guide"
   ]
  },
  {
   "cell_type": "code",
   "execution_count": null,
   "id": "f9f16782-6804-4ea6-b44b-00ea66c05710",
   "metadata": {},
   "outputs": [],
   "source": [
    "vqa_prompt = \"does this sink have a dryingboard\""
   ]
  },
  {
   "cell_type": "markdown",
   "id": "7cb510b4-da11-45ed-b082-0f011e366445",
   "metadata": {},
   "source": [
    "The REST API expects a json payload containing the image data that will be inspected by the model. We are only passing a few of the available request options below, but you can find more information about the REST API and additional featuers here https://cloud.google.com/vertex-ai/docs/generative-ai/image/visual-question-answering\n",
    "\n",
    "Next we will create a base64 encoded byte string of the image we will be passing to the Imagen API. We'll start with a local file named sink1.jpg. You can change this to sink2.jpg and re-run the script to verify the model's prediction. "
   ]
  },
  {
   "cell_type": "code",
   "execution_count": null,
   "id": "86203617-618f-4aa8-958b-d413c049425f",
   "metadata": {},
   "outputs": [],
   "source": [
    "with open(\"sink1.jpg\", \"rb\") as imagefile:\n",
    "    convert = base64.b64encode(imagefile.read())\n",
    "B64_IMAGE = convert.decode('utf-8') "
   ]
  },
  {
   "cell_type": "markdown",
   "id": "a1980e70-eef9-49e7-a66e-e4c1bff5cd66",
   "metadata": {},
   "source": [
    "We will now create the request body that will be passed to the REST API"
   ]
  },
  {
   "cell_type": "code",
   "execution_count": null,
   "id": "e4152412-a31b-4fa2-aa0a-280f5115c782",
   "metadata": {},
   "outputs": [],
   "source": [
    "request_body = '{\"instances\":[{\"prompt\":\"' + vqa_prompt + '\",\"image\": {\"bytesBase64Encoded\": \"' + B64_IMAGE + '\"}}],\"parameters\":{\"sampleCount\":1}}'"
   ]
  },
  {
   "cell_type": "markdown",
   "id": "2227aa1f-cfe3-42d7-8ffd-713934aef13b",
   "metadata": {},
   "source": [
    "Lastly, we will post the request to the Imagen REST API and wait for the requested response to be generated and returned"
   ]
  },
  {
   "cell_type": "code",
   "execution_count": null,
   "id": "d561c8ec-cfbe-40c8-8fd1-b516d03ed545",
   "metadata": {},
   "outputs": [],
   "source": [
    "r = requests.post(url, data=request_body, headers=headers)"
   ]
  },
  {
   "cell_type": "markdown",
   "id": "63c44c6c-adcd-4418-b805-8be482304e1e",
   "metadata": {},
   "source": [
    "You can optionally uncomment the following to view the returned status code for verification or troubleshooting"
   ]
  },
  {
   "cell_type": "code",
   "execution_count": null,
   "id": "01cfcca9-20e4-477d-adfa-3cc66fc3c6ca",
   "metadata": {},
   "outputs": [],
   "source": [
    "#print(r.status_code)"
   ]
  },
  {
   "cell_type": "markdown",
   "id": "4cea8b0f-41dc-457e-a23b-81e98abe6c5c",
   "metadata": {},
   "source": [
    "## Process the returned request and decode the image"
   ]
  },
  {
   "cell_type": "markdown",
   "id": "bd9f2887-4e6a-444f-91d2-355b0ac47422",
   "metadata": {},
   "source": [
    "The Imagen API returns the prediciton in a JSON string. We will start by defining our data and then extracting the prediction."
   ]
  },
  {
   "cell_type": "code",
   "execution_count": null,
   "id": "79f8359a-fcc6-4952-9f4d-e35c356a4629",
   "metadata": {},
   "outputs": [],
   "source": [
    "img_data = r.json()"
   ]
  },
  {
   "cell_type": "markdown",
   "id": "ce28a66b-b20c-4ba1-81b6-fb91ae89ddc9",
   "metadata": {},
   "source": [
    "You can optionally uncomment the following to view the returned json payload"
   ]
  },
  {
   "cell_type": "code",
   "execution_count": null,
   "id": "183e1e10-410b-47d0-994a-1d022d193a8e",
   "metadata": {},
   "outputs": [],
   "source": [
    "#print(img_data)"
   ]
  },
  {
   "cell_type": "markdown",
   "id": "d266e0a3-55e2-4999-92b5-27f161d1b059",
   "metadata": {},
   "source": [
    "We will be using just the first returned prediction sample in this example. The API can return up to 3 answers, so you could insert a simple 'for loop' here to iterate through multiple predictions."
   ]
  },
  {
   "cell_type": "code",
   "execution_count": null,
   "id": "3ed3379a-7673-41ed-8ccc-3e08bfa22416",
   "metadata": {},
   "outputs": [],
   "source": [
    "qa_response = img_data[\"predictions\"][0]"
   ]
  },
  {
   "cell_type": "markdown",
   "id": "05a62b00-3838-474f-bcc9-b0186ecca318",
   "metadata": {},
   "source": [
    "Lastly we will print the provided response"
   ]
  },
  {
   "cell_type": "code",
   "execution_count": null,
   "id": "2a2300bc-1c8f-434c-95b4-489144c7d052",
   "metadata": {},
   "outputs": [],
   "source": [
    "print(qa_response)"
   ]
  },
  {
   "cell_type": "markdown",
   "id": "3a5e2d0b-8755-48c9-8d64-7a0ab8be5ac7",
   "metadata": {},
   "source": [
    "That's it! Congratulations on defining your first visual Q&A with Imagen!"
   ]
  }
 ],
 "metadata": {
  "environment": {
   "kernel": "python3",
   "name": "common-cpu.m110",
   "type": "gcloud",
   "uri": "gcr.io/deeplearning-platform-release/base-cpu:m110"
  },
  "kernelspec": {
   "display_name": "Python 3",
   "language": "python",
   "name": "python3"
  },
  "language_info": {
   "codemirror_mode": {
    "name": "ipython",
    "version": 3
   },
   "file_extension": ".py",
   "mimetype": "text/x-python",
   "name": "python",
   "nbconvert_exporter": "python",
   "pygments_lexer": "ipython3",
   "version": "3.10.12"
  }
 },
 "nbformat": 4,
 "nbformat_minor": 5
}
